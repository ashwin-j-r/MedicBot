{
 "cells": [
  {
   "cell_type": "markdown",
   "id": "3a97b472",
   "metadata": {},
   "source": [
    "Training Using Google Colab"
   ]
  },
  {
   "cell_type": "code",
   "execution_count": null,
   "id": "6da78206",
   "metadata": {},
   "outputs": [],
   "source": [
    "# ✅ Step 1: Install dependencies\n",
    "!pip install -q transformers datasets accelerate"
   ]
  },
  {
   "cell_type": "code",
   "execution_count": null,
   "id": "4644e5c1",
   "metadata": {},
   "outputs": [],
   "source": [
    "# ✅ Step 2: Check GPU availability\n",
    "import torch\n",
    "device = torch.device(\"cuda\" if torch.cuda.is_available() else \"cpu\")\n",
    "print(\"Using device:\", device)"
   ]
  },
  {
   "cell_type": "code",
   "execution_count": null,
   "id": "91e3a36e",
   "metadata": {},
   "outputs": [],
   "source": [
    "from huggingface_hub import login\n",
    "\n",
    "# Paste your token between the quotes\n",
    "login(\"LOGIN_TOKEN\")"
   ]
  },
  {
   "cell_type": "code",
   "execution_count": null,
   "id": "22489f08",
   "metadata": {},
   "outputs": [],
   "source": [
    "# ✅ Step 3: Load tokenizer and model\n",
    "from transformers import AutoTokenizer, AutoModelForCausalLM\n",
    "\n",
    "model_name = \"meta-llama/Llama-3.2-1B\"\n",
    "\n",
    "tokenizer = AutoTokenizer.from_pretrained(model_name, use_fast=True)\n",
    "tokenizer.pad_token = tokenizer.eos_token  # LLaMA needs a pad token\n",
    "\n",
    "model = AutoModelForCausalLM.from_pretrained(\n",
    "    model_name,\n",
    "    torch_dtype=torch.float16 if torch.cuda.is_available() else torch.float32,\n",
    "    device_map=\"auto\"\n",
    ")"
   ]
  },
  {
   "cell_type": "code",
   "execution_count": null,
   "id": "140b080b",
   "metadata": {},
   "outputs": [],
   "source": [
    "!rm -rf ~/.cache/huggingface/datasets\n"
   ]
  },
  {
   "cell_type": "code",
   "execution_count": null,
   "id": "2fe55ad8",
   "metadata": {},
   "outputs": [],
   "source": [
    "import json\n",
    "from datasets import Dataset\n",
    "\n",
    "# Load JSON file manually\n",
    "with open(\"/content/medical_dataset_llama3_format.json\") as f:\n",
    "    data = json.load(f)\n",
    "\n",
    "# Convert to Hugging Face Dataset\n",
    "dataset = Dataset.from_list(data)\n",
    "\n",
    "# Train/test split\n",
    "dataset = dataset.train_test_split(test_size=0.2)\n",
    "\n",
    "# View a sample\n",
    "print(dataset[\"train\"][0])\n"
   ]
  }
 ],
 "metadata": {
  "kernelspec": {
   "display_name": "Python 3",
   "language": "python",
   "name": "python3"
  },
  "language_info": {
   "codemirror_mode": {
    "name": "ipython",
    "version": 3
   },
   "file_extension": ".py",
   "mimetype": "text/x-python",
   "name": "python",
   "nbconvert_exporter": "python",
   "pygments_lexer": "ipython3",
   "version": "3.9.1"
  }
 },
 "nbformat": 4,
 "nbformat_minor": 5
}
